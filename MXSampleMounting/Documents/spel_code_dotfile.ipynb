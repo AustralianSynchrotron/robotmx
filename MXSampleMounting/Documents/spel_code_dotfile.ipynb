{
 "cells": [
  {
   "cell_type": "code",
   "execution_count": 1,
   "metadata": {
    "collapsed": false
   },
   "outputs": [],
   "source": [
    "import os\n",
    "import re\n",
    "import pandas as pd"
   ]
  },
  {
   "cell_type": "code",
   "execution_count": 2,
   "metadata": {
    "collapsed": false
   },
   "outputs": [],
   "source": [
    "pwd = '/home/gautam/robotmx/MXSampleMounting/'\n",
    "\n",
    "files = [f for f in os.listdir(pwd) if re.match(r'[A-z]*.prg', f)]\n",
    "files = [f  for f in files if '.bak' not in f]"
   ]
  },
  {
   "cell_type": "code",
   "execution_count": 3,
   "metadata": {
    "collapsed": false
   },
   "outputs": [],
   "source": [
    "file_names = []\n",
    "function_names = []\n",
    "function_startlinenums = []\n",
    "function_endlinenums = []\n",
    "\n",
    "for fileName in files:\n",
    "    #fileName = files[0]\n",
    "    fhandle = open(pwd+fileName,'r')\n",
    "    readlines = fhandle.readlines()\n",
    "\n",
    "    temp_func_startlinenums = []\n",
    "    temp_func_endlinenums = []\n",
    "    for start_line_num in range(len(readlines)):\n",
    "        if re.match(r'^Function ',readlines[start_line_num].strip()):\n",
    "            temp_func_startlinenums.append(start_line_num)\n",
    "            for end_line_num in range(start_line_num,len(readlines)):\n",
    "                if 'Fend' in readlines[end_line_num]:                    \n",
    "                    temp_func_endlinenums.append(end_line_num)\n",
    "                    break\n",
    "\n",
    "    function_startlinenums = function_startlinenums + temp_func_startlinenums\n",
    "    function_endlinenums = function_endlinenums + temp_func_endlinenums\n",
    "\n",
    "    for line_num in temp_func_startlinenums:\n",
    "        function_names.append(re.split(\" |\\(|\\n\",readlines[line_num])[1])\n",
    "        file_names.append(fileName)\n",
    "\n",
    "    fhandle.close()"
   ]
  },
  {
   "cell_type": "code",
   "execution_count": 4,
   "metadata": {
    "collapsed": false
   },
   "outputs": [
    {
     "data": {
      "text/html": [
       "<div>\n",
       "<table border=\"1\" class=\"dataframe\">\n",
       "  <thead>\n",
       "    <tr style=\"text-align: right;\">\n",
       "      <th></th>\n",
       "      <th>filename</th>\n",
       "      <th>startlineNumber</th>\n",
       "      <th>endlineNumber</th>\n",
       "      <th>Function</th>\n",
       "    </tr>\n",
       "  </thead>\n",
       "  <tbody>\n",
       "    <tr>\n",
       "      <th>98</th>\n",
       "      <td>pythoninterface.prg</td>\n",
       "      <td>9</td>\n",
       "      <td>25</td>\n",
       "      <td>GTParseCassettePosition</td>\n",
       "    </tr>\n",
       "    <tr>\n",
       "      <th>99</th>\n",
       "      <td>pythoninterface.prg</td>\n",
       "      <td>27</td>\n",
       "      <td>70</td>\n",
       "      <td>GTParsePortIndex</td>\n",
       "    </tr>\n",
       "    <tr>\n",
       "      <th>100</th>\n",
       "      <td>pythoninterface.prg</td>\n",
       "      <td>73</td>\n",
       "      <td>85</td>\n",
       "      <td>PrepareForMountDismount</td>\n",
       "    </tr>\n",
       "    <tr>\n",
       "      <th>101</th>\n",
       "      <td>pythoninterface.prg</td>\n",
       "      <td>87</td>\n",
       "      <td>162</td>\n",
       "      <td>ProbeCassettes</td>\n",
       "    </tr>\n",
       "    <tr>\n",
       "      <th>102</th>\n",
       "      <td>pythoninterface.prg</td>\n",
       "      <td>164</td>\n",
       "      <td>220</td>\n",
       "      <td>JSONDataRequest</td>\n",
       "    </tr>\n",
       "    <tr>\n",
       "      <th>103</th>\n",
       "      <td>pythoninterface.prg</td>\n",
       "      <td>222</td>\n",
       "      <td>331</td>\n",
       "      <td>MountSamplePort</td>\n",
       "    </tr>\n",
       "    <tr>\n",
       "      <th>104</th>\n",
       "      <td>pythoninterface.prg</td>\n",
       "      <td>333</td>\n",
       "      <td>417</td>\n",
       "      <td>DismountSample</td>\n",
       "    </tr>\n",
       "    <tr>\n",
       "      <th>105</th>\n",
       "      <td>pythoninterface.prg</td>\n",
       "      <td>420</td>\n",
       "      <td>490</td>\n",
       "      <td>FindPortCenters</td>\n",
       "    </tr>\n",
       "    <tr>\n",
       "      <th>106</th>\n",
       "      <td>pythoninterface.prg</td>\n",
       "      <td>492</td>\n",
       "      <td>553</td>\n",
       "      <td>SetPortState</td>\n",
       "    </tr>\n",
       "  </tbody>\n",
       "</table>\n",
       "</div>"
      ],
      "text/plain": [
       "                filename  startlineNumber  endlineNumber  \\\n",
       "98   pythoninterface.prg                9             25   \n",
       "99   pythoninterface.prg               27             70   \n",
       "100  pythoninterface.prg               73             85   \n",
       "101  pythoninterface.prg               87            162   \n",
       "102  pythoninterface.prg              164            220   \n",
       "103  pythoninterface.prg              222            331   \n",
       "104  pythoninterface.prg              333            417   \n",
       "105  pythoninterface.prg              420            490   \n",
       "106  pythoninterface.prg              492            553   \n",
       "\n",
       "                    Function  \n",
       "98   GTParseCassettePosition  \n",
       "99          GTParsePortIndex  \n",
       "100  PrepareForMountDismount  \n",
       "101           ProbeCassettes  \n",
       "102          JSONDataRequest  \n",
       "103          MountSamplePort  \n",
       "104           DismountSample  \n",
       "105          FindPortCenters  \n",
       "106             SetPortState  "
      ]
     },
     "execution_count": 4,
     "metadata": {},
     "output_type": "execute_result"
    }
   ],
   "source": [
    "df = pd.DataFrame({\"filename\":file_names, \n",
    "                   \"Function\":function_names, \n",
    "                   \"startlineNumber\":function_startlinenums,\n",
    "                   \"endlineNumber\":function_endlinenums\n",
    "                  })\n",
    "\n",
    "df = df[[\"filename\",\"startlineNumber\",\"endlineNumber\",\"Function\"]]\n",
    "df[df.filename == \"pythoninterface.prg\"]"
   ]
  },
  {
   "cell_type": "code",
   "execution_count": 5,
   "metadata": {
    "collapsed": false
   },
   "outputs": [
    {
     "name": "stdout",
     "output_type": "stream",
     "text": [
      "Fend\n",
      "\n"
     ]
    }
   ],
   "source": [
    "fileName = \"pythoninterface.prg\"\n",
    "fhandle = open(pwd+fileName,'r')\n",
    "readlines = fhandle.readlines()\n",
    "print(readlines[25])\n",
    "fhandle.close()"
   ]
  },
  {
   "cell_type": "code",
   "execution_count": 6,
   "metadata": {
    "collapsed": false
   },
   "outputs": [],
   "source": [
    "#from IPython.display import display\n",
    "#display(df[df.filename == \"pythoninterface.prg\"])\n",
    "#for fileName in files:\n",
    "#    display(df[df.filename == fileName])"
   ]
  },
  {
   "cell_type": "code",
   "execution_count": 7,
   "metadata": {
    "collapsed": true
   },
   "outputs": [],
   "source": [
    "function_list = df['Function'].tolist()\n",
    "funcRegex = '('+'|'.join(function_list)+')'\n",
    "funcRegexCompilation = re.compile(funcRegex)\n",
    "exclusionRegex = '(msg|g_RunResult|UpdateClient|Print|\\')'#|True$|False$)'\n",
    "exclusionRegexCompilation = re.compile(exclusionRegex)"
   ]
  },
  {
   "cell_type": "code",
   "execution_count": 8,
   "metadata": {
    "collapsed": false
   },
   "outputs": [],
   "source": [
    "funcsList_inside_func = []\n",
    "for fileName in files:\n",
    "    #fileName = \"pythoninterface.prg\"\n",
    "\n",
    "    df_of_funcs_in_this_file = df[df.filename == fileName]\n",
    "    #df_of_funcs_in_this_file.sort_values(by='startlineNumber',ascending=True)\n",
    "    funcs_in_this_file = df_of_funcs_in_this_file['Function'].tolist()\n",
    "    #df_of_funcs_in_this_file.reindex(range(len(funcs_in_this_file)))\n",
    "    #display(df_of_funcs_in_this_file)\n",
    "\n",
    "    fhandle = open(pwd+fileName,'r')\n",
    "    readlines = fhandle.readlines()\n",
    "    fhandle.close()\n",
    "\n",
    "    #funcsList_inside_func = []\n",
    "    for funcIndex in df_of_funcs_in_this_file.index:\n",
    "        functionName = df_of_funcs_in_this_file.loc[funcIndex,'Function']\n",
    "        startLineNum = df_of_funcs_in_this_file.loc[funcIndex,'startlineNumber']\n",
    "        endLineNum = df_of_funcs_in_this_file.loc[funcIndex,'endlineNumber']\n",
    "        funcs_inside_func = []\n",
    "        for lineNum in range(startLineNum+1,endLineNum):\n",
    "            line = readlines[lineNum].strip()\n",
    "            if not (exclusionRegexCompilation.match(line) or re.search(functionName,line)):\n",
    "                searchedObject = funcRegexCompilation.search(line)\n",
    "                if searchedObject:\n",
    "                    funcs_inside_func.append(searchedObject.group())\n",
    "        funcsList_inside_func.append(funcs_inside_func)\n",
    "\n",
    "    #print(len(funcsList_inside_func))"
   ]
  },
  {
   "cell_type": "code",
   "execution_count": 9,
   "metadata": {
    "collapsed": false
   },
   "outputs": [],
   "source": [
    "df['funcsInside'] = funcsList_inside_func\n",
    "#df"
   ]
  },
  {
   "cell_type": "code",
   "execution_count": 10,
   "metadata": {
    "collapsed": false
   },
   "outputs": [],
   "source": [
    "funcsdf = df[['Function','funcsInside']]\n",
    "#funcsdf"
   ]
  },
  {
   "cell_type": "code",
   "execution_count": 11,
   "metadata": {
    "collapsed": false
   },
   "outputs": [],
   "source": [
    "def dotStringListGenerator(interestedFunction, insideFuncsList):    \n",
    "    dotStringList =[]\n",
    "    #prevFunction = interestedFunction\n",
    "    for funct in insideFuncsList:\n",
    "        #dotFormattedString = dotFormattedString + \"\\t\"+prevFunction+\" -> \"+funct+\"\\n\"\n",
    "        #prevFunction = funct\n",
    "        dotStringList.append(interestedFunction+\" -> \"+funct)\n",
    "    \n",
    "    return dotStringList\n",
    "\n",
    "def generateChildList(parentList):\n",
    "    ChildFuncsList = []\n",
    "    dotChildList = []\n",
    "    for parentFunction in parentList:\n",
    "        tempChildFuncsList = funcsdf[funcsdf.Function == parentFunction]['funcsInside'].tolist()[0]\n",
    "        ChildFuncsList = ChildFuncsList + tempChildFuncsList\n",
    "        dotChildList = dotChildList + dotStringListGenerator(parentFunction,tempChildFuncsList)\n",
    "    #Making calls unique, we loose order of sequence\n",
    "    ChildFuncsSet = set(ChildFuncsList)\n",
    "    ChildFuncsList = list(ChildFuncsSet)\n",
    "    \n",
    "    return ChildFuncsList,dotChildList"
   ]
  },
  {
   "cell_type": "code",
   "execution_count": 12,
   "metadata": {
    "collapsed": false
   },
   "outputs": [],
   "source": [
    "interestedFunction = [\"MountSamplePort\"]\n",
    "graphList = []\n",
    "\n",
    "Funcs1stGenList, dot1stGenList = generateChildList(interestedFunction)\n",
    "graphList = graphList + dot1stGenList\n",
    "\n",
    "Funcs2ndGenList, dot2ndGenList= generateChildList(Funcs1stGenList)\n",
    "graphList = graphList + dot2ndGenList\n",
    "\n",
    "#Making calls unique, we loose order of sequence\n",
    "graphSet = set(graphList)\n",
    "graphList = list(graphSet)"
   ]
  },
  {
   "cell_type": "code",
   "execution_count": 13,
   "metadata": {
    "collapsed": false
   },
   "outputs": [],
   "source": [
    "fhandle = open(pwd+\"Documents/\"+interestedFunction[0]+\".dot\",\"w+\")\n",
    "fhandle.write(\"digraph {\\n\")\n",
    "fhandle.write('\\n'.join(graphList))\n",
    "fhandle.write(\"\\n}\\n\")\n",
    "fhandle.close()"
   ]
  },
  {
   "cell_type": "code",
   "execution_count": 14,
   "metadata": {
    "collapsed": true
   },
   "outputs": [],
   "source": [
    "def dotStringFunctionSequenceListGenerator(interestedFunction, insideFuncsList):    \n",
    "    dotStringList =[]\n",
    "    prevFunction = interestedFunction\n",
    "    for funct in insideFuncsList:\n",
    "        dotStringList.append(prevFunction+\" -> \"+funct)\n",
    "        prevFunction = funct\n",
    "    return dotStringList\n",
    "\n",
    "def generateChildSequenceList(parentList):\n",
    "    ChildFuncsList = []\n",
    "    dotChildList = []\n",
    "    for parentFunction in parentList:\n",
    "        tempChildFuncsList = funcsdf[funcsdf.Function == parentFunction]['funcsInside'].tolist()[0]\n",
    "        ChildFuncsList = ChildFuncsList + tempChildFuncsList\n",
    "        dotChildList = dotChildList + dotStringFunctionSequenceListGenerator(parentFunction,tempChildFuncsList)\n",
    "    return ChildFuncsList,dotChildList"
   ]
  },
  {
   "cell_type": "code",
   "execution_count": 15,
   "metadata": {
    "collapsed": true
   },
   "outputs": [],
   "source": [
    "interestedFunction = [\"GTCavityGripSampleFromGonio\"]\n",
    "graphList = []\n",
    "\n",
    "Funcs1stGenList, dot1stGenList = generateChildSequenceList(interestedFunction)\n",
    "graphList = graphList + dot1stGenList"
   ]
  },
  {
   "cell_type": "code",
   "execution_count": 16,
   "metadata": {
    "collapsed": true
   },
   "outputs": [],
   "source": [
    "fhandle = open(pwd+\"Documents/\"+interestedFunction[0]+\"_seq.dot\",\"w+\")\n",
    "fhandle.write(\"digraph {\\n\")\n",
    "fhandle.write('\\n'.join(graphList))\n",
    "fhandle.write(\"\\n}\\n\")\n",
    "fhandle.close()"
   ]
  }
 ],
 "metadata": {
  "kernelspec": {
   "display_name": "Python 3",
   "language": "python",
   "name": "python3"
  },
  "language_info": {
   "codemirror_mode": {
    "name": "ipython",
    "version": 3
   },
   "file_extension": ".py",
   "mimetype": "text/x-python",
   "name": "python",
   "nbconvert_exporter": "python",
   "pygments_lexer": "ipython3",
   "version": "3.5.1"
  }
 },
 "nbformat": 4,
 "nbformat_minor": 0
}
